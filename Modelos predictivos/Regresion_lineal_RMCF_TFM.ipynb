{
  "nbformat": 4,
  "nbformat_minor": 0,
  "metadata": {
    "colab": {
      "provenance": []
    },
    "kernelspec": {
      "name": "python3",
      "display_name": "Python 3"
    },
    "language_info": {
      "name": "python"
    }
  },
  "cells": [
    {
      "cell_type": "markdown",
      "source": [
        "Se cargan las librerías:"
      ],
      "metadata": {
        "id": "6SxMvEtKwVhL"
      }
    },
    {
      "cell_type": "code",
      "execution_count": null,
      "metadata": {
        "id": "8PU_zgknwRZR"
      },
      "outputs": [],
      "source": [
        "import pandas as pd\n",
        "import numpy as np\n",
        "import matplotlib.pyplot as plt\n",
        "import seaborn as sns\n",
        "from sklearn.pipeline import Pipeline\n",
        "from sklearn.impute import SimpleImputer\n",
        "from sklearn.preprocessing import OrdinalEncoder\n",
        "from sklearn.preprocessing import OneHotEncoder\n",
        "from sklearn.compose import ColumnTransformer\n",
        "np.random.seed(4711)"
      ]
    },
    {
      "cell_type": "markdown",
      "source": [
        "## Cuenta @REALMADRID"
      ],
      "metadata": {
        "id": "Rmg6uEAzwb25"
      }
    },
    {
      "cell_type": "markdown",
      "source": [
        "Se carga en primer lugar la base de datos de la cuenta @realmadrid:"
      ],
      "metadata": {
        "id": "DAXP2-gCweL4"
      }
    },
    {
      "cell_type": "code",
      "source": [
        "df_realmadrid_def=pd.read_excel(\"df_realmadrid_def_sindup2_bool.xlsx\")\n",
        "#df_realmadrid_def=pd.read_excel(\"df_realmadrid_def_sindup3_bool.xlsx\")\n",
        "df_realmadrid_def = df_realmadrid_def.drop('Unnamed: 0', axis=1)\n",
        "df_realmadrid_def"
      ],
      "metadata": {
        "id": "f2anmw23wgBY"
      },
      "execution_count": null,
      "outputs": []
    },
    {
      "cell_type": "markdown",
      "source": [
        "Se definen las variables numéricas y no numéricas:"
      ],
      "metadata": {
        "id": "2Cl0ildBj3yY"
      }
    },
    {
      "cell_type": "code",
      "source": [
        "cols_categoricas = ['music_sonido original','music_author_Real Madrid C.F.']\n",
        "df_realmadrid_def[cols_categoricas] = df_realmadrid_def[cols_categoricas].astype(\"category\")"
      ],
      "metadata": {
        "id": "_VxVjesdiLHo"
      },
      "execution_count": null,
      "outputs": []
    },
    {
      "cell_type": "markdown",
      "source": [
        "Se visualiza el comportamiento de las visualizaciones respecto a las variables numéricas:"
      ],
      "metadata": {
        "id": "PB01i8s8ycl3"
      }
    },
    {
      "cell_type": "code",
      "source": [
        "#listado de variables numericas excepto stats_playCount\n",
        "cols_numericas = (df_realmadrid_def\n",
        "                  .drop(columns=[\"stats_playCount\"])\n",
        "                  .select_dtypes(include=np.number)\n",
        "                  .columns.tolist())\n",
        "cols_numericas\n",
        "\n",
        "# son 15 variables numericas\n",
        "# el plot seran 5 filas y 3 columnas\n",
        "\n",
        "fig, axes = plt.subplots(4, 3, figsize=(12, 12))\n",
        "axes = axes.flatten()\n",
        "for i, col in enumerate(cols_numericas):\n",
        "    sns.regplot(data=df_realmadrid_def,\n",
        "                x=col, y=\"stats_playCount\",\n",
        "                ax=axes[i])\n",
        "    axes[i].set_title(col)\n",
        "plt.tight_layout()\n",
        "plt.show()\n"
      ],
      "metadata": {
        "id": "4I3o8WMjygRw"
      },
      "execution_count": null,
      "outputs": []
    },
    {
      "cell_type": "markdown",
      "source": [
        "Correlación, donde se visualiza la correlación entre las variables numéricas. La correlación de Pearson es una medida estadística que se utiliza para cuantificar la relación lineal entre dos variables continuas, y estas variables continuas deben ser lineales."
      ],
      "metadata": {
        "id": "AhNAAFE7zKBA"
      }
    },
    {
      "cell_type": "code",
      "source": [
        "cols = df_realmadrid_def.columns.tolist()\n",
        "cols.insert(0, cols.pop(cols.index(\"stats_playCount\")))\n",
        "auto_df = df_realmadrid_def.reindex(columns= cols)\n",
        "\n",
        "automobile_corr = df_realmadrid_def.corr(numeric_only=True)\n",
        "\n",
        "fig, ax = plt.subplots(figsize=(12, 10))\n",
        "\n",
        "sns.heatmap(automobile_corr, annot=True, fmt=\".2f\");\n"
      ],
      "metadata": {
        "id": "yaKPFV6CzLGe"
      },
      "execution_count": null,
      "outputs": []
    },
    {
      "cell_type": "markdown",
      "source": [
        "Visualización variables categóricas:"
      ],
      "metadata": {
        "id": "Yu75Q048jA-h"
      }
    },
    {
      "cell_type": "code",
      "source": [
        "fig, axes = plt.subplots(2, 1, figsize=(5, 7))\n",
        "axes = axes.flatten()\n",
        "for i, col in enumerate(cols_categoricas):\n",
        "    sns.boxplot(data=auto_df,\n",
        "                x=\"stats_playCount\", y=col,\n",
        "                ax=axes[i])\n",
        "    axes[i].set_title(col)\n",
        "plt.tight_layout()\n",
        "plt.show()\n"
      ],
      "metadata": {
        "id": "-cFQwx6RjCrP"
      },
      "execution_count": null,
      "outputs": []
    },
    {
      "cell_type": "code",
      "source": [
        "!pip install pingouin"
      ],
      "metadata": {
        "id": "JUPdfpEpaN7B"
      },
      "execution_count": null,
      "outputs": []
    },
    {
      "cell_type": "code",
      "source": [
        "import pingouin as pg\n",
        "pg.anova(data=df_realmadrid_def, dv='stats_playCount', between='music_sonido original', detailed=True)"
      ],
      "metadata": {
        "id": "czsdfKEIls9s"
      },
      "execution_count": null,
      "outputs": []
    },
    {
      "cell_type": "code",
      "source": [
        "import pingouin as pg\n",
        "pg.anova(data=df_realmadrid_def, dv='stats_playCount', between='music_author_Real Madrid C.F.', detailed=True)"
      ],
      "metadata": {
        "id": "xGvrqPH9mX6f"
      },
      "execution_count": null,
      "outputs": []
    },
    {
      "cell_type": "markdown",
      "source": [
        "Un p-value es superior a 0.1 es una evidencia muy débil en contra de la hipótesis núla de que todos los grupos tienen la misma media. El valor de eta cuadrado ( η2 ) es de 0.001 y 0.019, lo ue puede considerarse como un tamaño de efecto pequeño."
      ],
      "metadata": {
        "id": "KqkMv_-DmjQj"
      }
    },
    {
      "cell_type": "markdown",
      "source": [
        "Se va realizar una imputacion simple sin tener en cuenta un analisis mas profundo de los datos y la distribucion de los mismos.\n",
        "\n",
        "Las variables numericas se imputaran con la media y las variables categoricas con la moda.\n",
        "\n",
        "Creacion de pipelines de transformacion, la codificacion es:"
      ],
      "metadata": {
        "id": "Aqu40hlk4SEm"
      }
    },
    {
      "cell_type": "code",
      "source": [
        "cols_numericas = ['author_followers', 'music_preciseDuration.preciseDuration',\n",
        "       'stats_diggCount', 'stats_shareCount', 'stats_commentCount', 'stats_collectCount', 'video_duration',\n",
        "       'video_bitrate', 'video_volumeInfo.Loudness', 'video_volumeInfo.Peak',\n",
        "       'dias_fecactual_fecpublic', 'tasa_compromiso']\n",
        "\n",
        "cols_categoricas = ['music_sonido original','music_author_Real Madrid C.F.']"
      ],
      "metadata": {
        "id": "Y4I0c_X44dgG"
      },
      "execution_count": null,
      "outputs": []
    },
    {
      "cell_type": "code",
      "source": [
        "numeric_pipe = Pipeline(steps=[\n",
        "    ('imputer', SimpleImputer(strategy='median'))])\n",
        "\n",
        "categorical_pipe = Pipeline(steps=[\n",
        "    ('imputer', SimpleImputer(strategy='most_frequent')),\n",
        "    ('onehot', OneHotEncoder(handle_unknown='ignore'))])\n",
        "\n",
        "preprocessor = ColumnTransformer(\n",
        "    transformers=[\n",
        "        ('numericas', numeric_pipe, cols_numericas),\n",
        "        ('categoricas', categorical_pipe, cols_categoricas)\n",
        "        ])\n",
        "preprocessor"
      ],
      "metadata": {
        "id": "qqQhWJa24TiW"
      },
      "execution_count": null,
      "outputs": []
    },
    {
      "cell_type": "markdown",
      "source": [
        "### Modelo de regresión\n",
        "\n",
        "Dividir el dataset en entrenamiento y prueba"
      ],
      "metadata": {
        "id": "M7ACFXvR0SOi"
      }
    },
    {
      "cell_type": "code",
      "source": [
        "from sklearn.model_selection import train_test_split\n",
        "\n",
        "X_features = auto_df.drop('stats_playCount', axis='columns')\n",
        "Y_target = auto_df['stats_playCount']\n",
        "\n",
        "x_train, x_test, y_train, y_test = train_test_split(X_features,\n",
        "                                                    Y_target,\n",
        "                                                    test_size=0.3,\n",
        "                                                    random_state=42)\n",
        "\n",
        "\n",
        "x_train.shape, y_train.shape"
      ],
      "metadata": {
        "id": "2A_Nzwh71Yck"
      },
      "execution_count": null,
      "outputs": []
    },
    {
      "cell_type": "code",
      "source": [
        "x_test.shape, y_test.shape"
      ],
      "metadata": {
        "id": "NXrpGXhgn8-s"
      },
      "execution_count": null,
      "outputs": []
    },
    {
      "cell_type": "markdown",
      "source": [
        "#### Regresión modelo simple\n",
        "\n",
        "Cross Validation modelo simple"
      ],
      "metadata": {
        "id": "vGKK04wA121d"
      }
    },
    {
      "cell_type": "code",
      "source": [
        "from sklearn.model_selection import train_test_split\n",
        "from sklearn.metrics import mean_absolute_error\n",
        "\n",
        "\n",
        "from sklearn.dummy import DummyRegressor\n",
        "from sklearn.linear_model import LinearRegression\n",
        "from sklearn.linear_model import Lasso\n",
        "from sklearn.linear_model import Ridge\n",
        "from sklearn.linear_model import ElasticNet\n",
        "from sklearn.svm import SVR\n",
        "from sklearn.neighbors import KNeighborsRegressor\n",
        "from sklearn.tree import DecisionTreeRegressor\n",
        "\n",
        "import warnings\n",
        "warnings.filterwarnings(\"ignore\")\n",
        "\n",
        "result_dict = {}\n",
        "\n",
        "FEATURES = list(x_train.columns)\n",
        "FEATURES"
      ],
      "metadata": {
        "id": "L2u4J2a32Fcj"
      },
      "execution_count": null,
      "outputs": []
    },
    {
      "cell_type": "code",
      "source": [
        "import statsmodels.api as sm\n",
        "from sklearn.metrics import r2_score\n",
        "from sklearn.metrics import mean_squared_error\n",
        "\n",
        "def entrenar_modelo(modelo,\n",
        "                    preprocessor: ColumnTransformer,\n",
        "                    x_data: pd.DataFrame,\n",
        "                    y_data: pd.Series,\n",
        "                    test_frac:float=0.3,\n",
        "                  ):\n",
        "\n",
        "    # dividir el dataset en entrenamiento y prueba\n",
        "    x_train, x_test, y_train, y_test = train_test_split(x_data, y_data,\n",
        "                                                        random_state=42,\n",
        "                                                        test_size=test_frac)\n",
        "    # crear el pipeline con el preprocesador y el modelo\n",
        "    regressor_pipe = Pipeline(steps=[(\"preprocessor\", preprocessor),\n",
        "                                     (\"model\", modelo)])\n",
        "\n",
        "    # entrenar el pipeline de regresion\n",
        "    model = regressor_pipe.fit(x_train, y_train)\n",
        "\n",
        "    y_pred_train = model.predict(x_train)\n",
        "\n",
        "    # predecir con el pipeline de regresion\n",
        "    y_pred = model.predict(x_test)\n",
        "\n",
        "    rmse = mean_squared_error(\n",
        "        y_true  = y_test,\n",
        "        y_pred  = y_pred,\n",
        "        squared = False)\n",
        "\n",
        "    train_score = mean_absolute_error(y_train, y_pred_train)\n",
        "    test_score = mean_absolute_error(y_test, y_pred)\n",
        "    R1=r2_score(y_train, y_pred_train)\n",
        "    R=r2_score(y_test, y_pred)\n",
        "    #R1=r2_score(y_train, y_pred_train)\n",
        "    print(\"Entrenamiento_score (MSE) : \" , train_score)\n",
        "    print(\"Prueba_score (MSE) : \", test_score)\n",
        "    print(\"RMSE : \", rmse)\n",
        "    print(\"R2 entrenamiento: \", R1)\n",
        "    print(\"R2 test: \", R)\n",
        "\n",
        "\n",
        "    return {\n",
        "            'Entrenamiento_score': train_score,\n",
        "            'Prueba_score': test_score,\n",
        "            'RMSE': rmse,\n",
        "            'R2_t':R1,\n",
        "            'R2':R\n",
        "           }"
      ],
      "metadata": {
        "id": "6py2A0U03v0e"
      },
      "execution_count": null,
      "outputs": []
    },
    {
      "cell_type": "markdown",
      "source": [
        "Función para comparar resultados:"
      ],
      "metadata": {
        "id": "rbe7UzgS5sNd"
      }
    },
    {
      "cell_type": "code",
      "source": [
        "# Funcion para comparar los resultados de los modelos\n",
        "#se van a almacenar en un diccionario\n",
        "def compare_results():\n",
        "    for key in result_dict:\n",
        "        print('Regresion: ', key)\n",
        "        print('Entrenamiento score: ', result_dict[key]['Entrenamiento_score'])\n",
        "        print('Prueba score: ', result_dict[key]['Prueba_score'])\n",
        "        print('RMSE: ', result_dict[key]['RMSE'])\n",
        "        print('R2 entrenamiento: ', result_dict[key]['R2_t'])\n",
        "        print('R2 test: ', result_dict[key]['R2'])\n",
        "        print()\n"
      ],
      "metadata": {
        "id": "R1Mk13QJ5qcN"
      },
      "execution_count": null,
      "outputs": []
    },
    {
      "cell_type": "markdown",
      "source": [
        "Se crea un modelo simple:"
      ],
      "metadata": {
        "id": "xdDFN7zx3kOf"
      }
    },
    {
      "cell_type": "code",
      "source": [
        "result_dict['Dummy Regressor'] = entrenar_modelo(DummyRegressor(strategy='median'),\n",
        "                                                 preprocessor,\n",
        "                                                 x_train,\n",
        "                                                 y_train)\n"
      ],
      "metadata": {
        "id": "tlVwLXP83l5G"
      },
      "execution_count": null,
      "outputs": []
    },
    {
      "cell_type": "markdown",
      "source": [
        "Regresión lineal:"
      ],
      "metadata": {
        "id": "7d7SvgCZ516V"
      }
    },
    {
      "cell_type": "code",
      "source": [
        "result_dict['Linear Regressor'] = entrenar_modelo(LinearRegression(),\n",
        "                                                 preprocessor,\n",
        "                                                 x_train,\n",
        "                                                 y_train)\n"
      ],
      "metadata": {
        "id": "aY4-qg3J53F0"
      },
      "execution_count": null,
      "outputs": []
    },
    {
      "cell_type": "markdown",
      "source": [
        "Lasso:"
      ],
      "metadata": {
        "id": "4YgYFrm87b3M"
      }
    },
    {
      "cell_type": "code",
      "source": [
        "result_dict['Lasso'] = entrenar_modelo(Lasso(alpha=0.5),\n",
        "                                       preprocessor,\n",
        "                                       x_train,\n",
        "                                       y_train)"
      ],
      "metadata": {
        "id": "HtZwYUZq7cqq"
      },
      "execution_count": null,
      "outputs": []
    },
    {
      "cell_type": "markdown",
      "source": [
        "Ridge:"
      ],
      "metadata": {
        "id": "IgUGc01x7idq"
      }
    },
    {
      "cell_type": "code",
      "source": [
        "result_dict['Ridge'] = entrenar_modelo(Ridge(alpha=0.5),\n",
        "                                       preprocessor,\n",
        "                                       x_train,\n",
        "                                       y_train)\n"
      ],
      "metadata": {
        "id": "XB5lLJor7jN6"
      },
      "execution_count": null,
      "outputs": []
    },
    {
      "cell_type": "markdown",
      "source": [
        "Elasticnet:"
      ],
      "metadata": {
        "id": "4s-UUVC27lH9"
      }
    },
    {
      "cell_type": "code",
      "source": [
        "result_dict['Elasticnet'] = entrenar_modelo(ElasticNet(alpha=1, l1_ratio=0.5,\n",
        "                                                       max_iter= 100000,\n",
        "                                                       warm_start= True),\n",
        "                                            preprocessor,\n",
        "                                            x_train,\n",
        "                                            y_train)\n"
      ],
      "metadata": {
        "id": "RjTjFTKj7mgD"
      },
      "execution_count": null,
      "outputs": []
    },
    {
      "cell_type": "markdown",
      "source": [
        "KNR:"
      ],
      "metadata": {
        "id": "WO1u7tyimWlm"
      }
    },
    {
      "cell_type": "code",
      "source": [
        "result_dict['KNR'] = entrenar_modelo(KNeighborsRegressor(n_neighbors=10),\n",
        "                                     preprocessor,\n",
        "                                     x_train,\n",
        "                                     y_train)\n"
      ],
      "metadata": {
        "id": "4I4ocvyYmX_w"
      },
      "execution_count": null,
      "outputs": []
    },
    {
      "cell_type": "markdown",
      "source": [
        "Decision Tree:"
      ],
      "metadata": {
        "id": "ZvGkHuyyp7r1"
      }
    },
    {
      "cell_type": "code",
      "source": [
        "result_dict['Decision Tree'] = entrenar_modelo(DecisionTreeRegressor(max_depth=2),\n",
        "                                               preprocessor,\n",
        "                                               x_train,\n",
        "                                               y_train)\n"
      ],
      "metadata": {
        "id": "vbkHLSlXp9Yy"
      },
      "execution_count": null,
      "outputs": []
    },
    {
      "cell_type": "code",
      "source": [
        "compare_results()"
      ],
      "metadata": {
        "id": "3wvpm2TkqAGM"
      },
      "execution_count": null,
      "outputs": []
    },
    {
      "cell_type": "markdown",
      "source": [
        "Random forest:"
      ],
      "metadata": {
        "id": "byW8ZksWM7lN"
      }
    },
    {
      "cell_type": "code",
      "source": [
        "from sklearn.ensemble import RandomForestRegressor\n",
        "import matplotlib.pyplot as plt\n",
        "from sklearn.metrics import mean_absolute_error\n",
        "import numpy as np\n",
        "\n",
        "l_estimators = [2, 4, 8, 16, 32, 64, 128, 256, 512, 1024, 2048, 4056]\n",
        "\n",
        "total_scores = []\n",
        "for estimators in l_estimators:\n",
        "   fold_accuracy = []\n",
        "   regressor =  RandomForestRegressor(n_estimators= estimators,\n",
        "                  criterion='absolute_error', random_state=0)\n",
        "   result_dict['Random Forest'] = entrenar_modelo(RandomForestRegressor(n_estimators= estimators, criterion='absolute_error', random_state=0),\n",
        "                                               preprocessor,\n",
        "                                               x_train,\n",
        "                                               y_train)\n"
      ],
      "metadata": {
        "id": "nLqnp5ota7dv"
      },
      "execution_count": null,
      "outputs": []
    },
    {
      "cell_type": "code",
      "source": [
        "# Crear un diccionario solo con los resultados de prueba de cada modelo\n",
        "nombre_modelos = result_dict.keys()\n",
        "resultados_train = {} # crear diccionario vacio\n",
        "resultados_test = {} # crear diccionario vacio\n",
        "for nombre in nombre_modelos:\n",
        "    resultados_train[nombre] = result_dict[nombre]['Entrenamiento_score']\n",
        "    resultados_test[nombre] = result_dict[nombre]['Prueba_score']\n",
        "\n",
        "df_comparacion = pd.DataFrame([resultados_train, resultados_test],\n",
        "                              index=['train', 'test'])\n"
      ],
      "metadata": {
        "id": "gdb9CHeTwNdg"
      },
      "execution_count": null,
      "outputs": []
    },
    {
      "cell_type": "code",
      "source": [
        "# Plot the bar chart\n",
        "fig, ax = plt.subplots(figsize=(10, 4))\n",
        "df_comparacion.T.plot(kind='bar', ax=ax)\n",
        "\n",
        "# Adjust the layout\n",
        "ax.set_ylabel('MAE score')\n",
        "ax.set_title('Comparacion de Modelos [MAE] ')\n",
        "\n",
        "# Set the x-tick labels inside the bars and rotate by 90 degrees\n",
        "ax.set_xticks(range(len(df_comparacion.columns)))\n",
        "ax.set_xticklabels([])\n",
        "\n",
        "# Draw the x-tick labels inside the bars rotated by 90 degrees\n",
        "for i, label in enumerate(df_comparacion.columns):\n",
        "    bar_center = (df_comparacion.loc['train', label] +\n",
        "                  df_comparacion.loc['test', label]) / 2\n",
        "    ax.text(i, bar_center, label, ha='center',\n",
        "            va='center_baseline', rotation=45)\n",
        "\n",
        "#plot line at DUmmerRegressor result\n",
        "ax.axhline(df_comparacion['Dummy Regressor']['test'],\n",
        "           color='red',\n",
        "           linestyle='--',\n",
        "           alpha=0.8)\n",
        "\n",
        "plt.tight_layout()\n"
      ],
      "metadata": {
        "id": "YeFNRVaewqLh"
      },
      "execution_count": null,
      "outputs": []
    },
    {
      "cell_type": "markdown",
      "source": [
        "### Cross Validation - Seleccion de Modelos\n",
        "Analizar la varianza de los resultados para obtener los que tengan mejor resultado."
      ],
      "metadata": {
        "id": "djjdwkWGySnX"
      }
    },
    {
      "cell_type": "code",
      "source": [
        "# lista para almacenar cada uno los modelos seleccionados para el cross validation\n",
        "models = []\n",
        "\n",
        "# Alamcenando los modelos como una tupla (nombre, modelo)\n",
        "models.append(('LinearRegression',LinearRegression()))\n",
        "models.append(('Lasso',Lasso(alpha=0.5)))\n",
        "models.append(('Elastic_net',ElasticNet(alpha=1,\n",
        "                                        l1_ratio=0.5,\n",
        "                                        max_iter= 100000,\n",
        "                                        warm_start= True)))\n",
        "models.append(('Kneighbors',KNeighborsRegressor(n_neighbors=10)))\n",
        "models.append(('Decision_tree',DecisionTreeRegressor(max_depth=2)))\n",
        "#models.append(('SVR',SVR(kernel='linear', epsilon=0.05, C=0.3)))\n"
      ],
      "metadata": {
        "id": "vJEdPOt6yU0d"
      },
      "execution_count": null,
      "outputs": []
    },
    {
      "cell_type": "code",
      "source": [
        "# Grabar los resultados de cada modelo\n",
        "from sklearn import model_selection\n",
        "\n",
        "#Semilla para obtener los mismos resultados de pruebas\n",
        "seed = 2\n",
        "results = []\n",
        "names = []\n",
        "scoring = 'neg_mean_absolute_error'\n",
        "for name, model in models:\n",
        "    # Kfold cross validation for model selection\n",
        "    kfold = model_selection.KFold(n_splits=10)\n",
        "    model_pipe = Pipeline(steps=[(\"preprocessor\", preprocessor),\n",
        "                                 (\"model\", model)])\n",
        "    #X train , y train\n",
        "    cv_results = model_selection.cross_val_score(model_pipe, x_train, y_train,\n",
        "                                                 cv=kfold, scoring=scoring)\n",
        "    # la metrica neg_mean_absolute_error se debe convertir en positiva\n",
        "    cv_results = np.abs(cv_results)\n",
        "\n",
        "    results.append(cv_results)\n",
        "    names.append(name)\n",
        "    msg = f\"({name}, {cv_results.mean()}, {cv_results.std()}\"\n",
        "    print(msg)"
      ],
      "metadata": {
        "id": "iwtaEn9qyfCY"
      },
      "execution_count": null,
      "outputs": []
    },
    {
      "cell_type": "code",
      "source": [
        "plt.figure(figsize = (8,4))\n",
        "result_df = pd.DataFrame(results, index=names).T\n",
        "sns.boxplot(data=result_df)\n",
        "plt.title(\"Resultados de Cross Validation\")\n",
        "plt.show()"
      ],
      "metadata": {
        "id": "TtkIe7xkyqvV"
      },
      "execution_count": null,
      "outputs": []
    },
    {
      "cell_type": "code",
      "source": [
        "plt.figure(figsize = (8,4))\n",
        "sns.lineplot(data=result_df)\n",
        "plt.title(\"Resultados de cada Kfold\")\n",
        "plt.show()\n"
      ],
      "metadata": {
        "id": "uocKEr02yuZJ"
      },
      "execution_count": null,
      "outputs": []
    },
    {
      "cell_type": "markdown",
      "source": [
        "Comparación estadística de modelos"
      ],
      "metadata": {
        "id": "oSm6Fsr5y3A-"
      }
    },
    {
      "cell_type": "code",
      "source": [
        "from scipy.stats import f_oneway\n",
        "\n",
        "model1 = result_df['LinearRegression']\n",
        "model2 = result_df['Lasso']\n",
        "model3 = result_df['Elastic_net']\n",
        "model4 = result_df['Kneighbors']\n",
        "model5 = result_df['Decision_tree']\n",
        "#model6 = result_df['SVR']\n",
        "\n",
        "#statistic, p_value = f_oneway(model1, model2, model3, model4, model5, model6)\n",
        "\n",
        "statistic, p_value = f_oneway(model1, model2, model3, model4, model5)\n",
        "\n",
        "#statistic, p_value = f_oneway(model1, model2)\n",
        "\n",
        "print(f'Statistic: {statistic}')\n",
        "print(f'p_value: {p_value}')\n",
        "\n",
        "alpha = 0.05  # nivel de significancia\n",
        "\n",
        "if p_value < alpha:\n",
        "    print(\"Existe una diferencia estadísticamente \"\n",
        "          \"significativa en los resultados de\"\n",
        "          \" cross-validation de los modelos.\")\n",
        "else:\n",
        "    print(\"No Existe una diferencia estadísticamente \"\n",
        "          \"significativa en los resultados de \"\n",
        "          \"cross-validation de los modelos.\")\n"
      ],
      "metadata": {
        "id": "a0GEd_kqy40u"
      },
      "execution_count": null,
      "outputs": []
    },
    {
      "cell_type": "markdown",
      "source": [
        "### Hyper Parameter Tunning\n",
        "Optimizacion de hiperparametros, Se seleccionan los mejores modelos que tengan diferentes formas de funcionamiento."
      ],
      "metadata": {
        "id": "FuB1BXwCzcpF"
      }
    },
    {
      "cell_type": "code",
      "source": [
        "from sklearn.model_selection import GridSearchCV"
      ],
      "metadata": {
        "id": "hSkRWPAjzgpX"
      },
      "execution_count": null,
      "outputs": []
    },
    {
      "cell_type": "markdown",
      "source": [
        "Lasso regression:"
      ],
      "metadata": {
        "id": "gR3HXpLizjWv"
      }
    },
    {
      "cell_type": "code",
      "source": [
        "parameters = {'model__alpha': [0.2, 0.4, 0.5 ,0.6, 0.7, 0.8, 0.9, 1.0]}\n",
        "\n",
        "lasso_pipe = Pipeline(steps=[(\"preprocessor\", preprocessor),\n",
        "                             (\"model\", Lasso())])\n",
        "\n",
        "grid_search = GridSearchCV(lasso_pipe, parameters, cv=5,\n",
        "                           return_train_score=True,\n",
        "                           scoring='neg_mean_absolute_error')\n",
        "grid_search.fit(x_train, y_train);\n"
      ],
      "metadata": {
        "id": "1_yu7lzczlRo"
      },
      "execution_count": null,
      "outputs": []
    },
    {
      "cell_type": "markdown",
      "source": [
        "Resultados de hiperparametrización:"
      ],
      "metadata": {
        "id": "IWJr-iySzpF2"
      }
    },
    {
      "cell_type": "code",
      "source": [
        "# la medida neg_mean_absolute_error se debe convertir en positiva\n",
        "print(f\"Mejor resultado = {abs(grid_search.best_score_)}\")\n",
        "print(f\"Mejor std = {grid_search.cv_results_['std_test_score'][grid_search.best_index_]}\")\n",
        "print(f\"Mejor parametros = {grid_search.best_params_}\")\n"
      ],
      "metadata": {
        "id": "syMz9qlMzq7l"
      },
      "execution_count": null,
      "outputs": []
    },
    {
      "cell_type": "code",
      "source": [
        "# Para ver todos los resultados del cross validation\n",
        "# No es necesario, solo es informativo para ver como varia el modelo\n",
        "for i in range(len(parameters['model__alpha'])):\n",
        "    print('Parametros: ', grid_search.cv_results_['params'][i])\n",
        "    print('Promedio Score Prueba: ', np.abs(grid_search\n",
        "                                            .cv_results_['mean_test_score'][i]))\n",
        "    print('Std Score Prueba: ', grid_search.cv_results_['std_test_score'][i])\n",
        "\n",
        "    print('Rank: ', grid_search.cv_results_['rank_test_score'][i])\n"
      ],
      "metadata": {
        "id": "fETyrWpszvEF"
      },
      "execution_count": null,
      "outputs": []
    },
    {
      "cell_type": "code",
      "source": [
        "lasso_pipe = Pipeline(steps=[(\"preprocessor\", preprocessor),\n",
        "                             (\"model\", Lasso(alpha=grid_search\n",
        "                                             .best_params_['model__alpha']))])\n",
        "\n",
        "lasso_model = lasso_pipe.fit(x_train, y_train)\n"
      ],
      "metadata": {
        "id": "H6K9_s1vz6fd"
      },
      "execution_count": null,
      "outputs": []
    },
    {
      "cell_type": "code",
      "source": [
        "y_pred = lasso_model.predict(x_test)\n",
        "y_pred_train = lasso_model.predict(x_train)\n",
        "\n",
        "print('Entrenamiento score: ', mean_absolute_error(y_train, y_pred_train))\n",
        "print('Prueba score: ', mean_absolute_error(y_test, y_pred))\n",
        "print('R2 train: ', r2_score(y_train, y_pred_train))\n",
        "print('R2 test: ', r2_score(y_test, y_pred))\n"
      ],
      "metadata": {
        "id": "YE6L7mTj0ABe"
      },
      "execution_count": null,
      "outputs": []
    },
    {
      "cell_type": "markdown",
      "source": [
        "KNeighbors regression"
      ],
      "metadata": {
        "id": "etduNNiG0HD1"
      }
    },
    {
      "cell_type": "code",
      "source": [
        "parameters = {'model__n_neighbors': [10, 12, 14, 18, 20, 25, 30, 35, 50]}\n",
        "\n",
        "knn_pipe = Pipeline(steps=[(\"preprocessor\", preprocessor),\n",
        "                           (\"model\", KNeighborsRegressor())])\n",
        "\n",
        "grid_search = GridSearchCV(knn_pipe, parameters, cv=5,\n",
        "                           return_train_score=True,\n",
        "                           scoring='neg_mean_absolute_error')\n",
        "grid_search.fit(x_train, y_train);\n"
      ],
      "metadata": {
        "id": "x2n0vR8h0Ine"
      },
      "execution_count": null,
      "outputs": []
    },
    {
      "cell_type": "code",
      "source": [
        "print(f\"Mejor resultado = {abs(grid_search.best_score_)}\")\n",
        "print(f\"Mejor std = {grid_search.cv_results_['std_test_score'][grid_search.best_index_]}\")\n",
        "print(f\"Mejor parametros = {grid_search.best_params_}\")\n"
      ],
      "metadata": {
        "id": "bsRLn_6s0Meu"
      },
      "execution_count": null,
      "outputs": []
    },
    {
      "cell_type": "code",
      "source": [
        "knn_pipe = Pipeline(steps=[(\"preprocessor\", preprocessor),\n",
        "                           (\"model\", KNeighborsRegressor(n_neighbors=grid_search.\n",
        "                                                         best_params_['model__n_neighbors']))])\n",
        "\n",
        "kneighbors_model = knn_pipe.fit(x_train, y_train)\n"
      ],
      "metadata": {
        "id": "IeVYy9yc0QPW"
      },
      "execution_count": null,
      "outputs": []
    },
    {
      "cell_type": "code",
      "source": [
        "y_pred = kneighbors_model.predict(x_test)\n",
        "y_pred_train = kneighbors_model.predict(x_train)\n",
        "\n",
        "print('Entrenamiento score: ', mean_absolute_error(y_train, y_pred_train))\n",
        "print('Prueba score: ', mean_absolute_error(y_test, y_pred))\n",
        "print('R2: ', r2_score(y_test, y_pred))\n"
      ],
      "metadata": {
        "id": "vZ35-Ik60SSA"
      },
      "execution_count": null,
      "outputs": []
    },
    {
      "cell_type": "markdown",
      "source": [
        "Decision Tree:"
      ],
      "metadata": {
        "id": "eU1FG8iR0UoN"
      }
    },
    {
      "cell_type": "code",
      "source": [
        "parameters = {'model__max_depth': [4, 5, 7, 9, 10],\n",
        "              'model__max_features': [5, 10, 15, 20,30],\n",
        "              'model__criterion': ['squared_error',\n",
        "                                   'absolute_error',\n",
        "                                   'poisson',\n",
        "                                   'friedman_mse'],\n",
        "              }\n",
        "\n",
        "dt_pipe = Pipeline(steps=[(\"preprocessor\", preprocessor),\n",
        "                           (\"model\", DecisionTreeRegressor())])\n",
        "\n",
        "grid_search = GridSearchCV(dt_pipe, parameters, cv=5,\n",
        "                           scoring='neg_mean_absolute_error',\n",
        "                           return_train_score=True)\n",
        "grid_search.fit(x_train, y_train);\n"
      ],
      "metadata": {
        "id": "9Yky_hHI0V_-"
      },
      "execution_count": null,
      "outputs": []
    },
    {
      "cell_type": "code",
      "source": [
        "print(f\"Mejor resultado = {abs(grid_search.best_score_)}\")\n",
        "print(f\"Mejor std = {grid_search.cv_results_['std_test_score'][grid_search.best_index_]}\")\n",
        "print(f\"Mejor parametros = {grid_search.best_params_}\")\n"
      ],
      "metadata": {
        "id": "d_QLR79v0gqO"
      },
      "execution_count": null,
      "outputs": []
    },
    {
      "cell_type": "code",
      "source": [
        "model = DecisionTreeRegressor(max_depth=grid_search.best_params_['model__max_depth'],\n",
        "                              criterion=grid_search.best_params_['model__criterion'])\n",
        "\n",
        "dt_pipe = Pipeline(steps=[(\"preprocessor\", preprocessor),\n",
        "                           (\"model\",model)])\n",
        "decision_tree_model = dt_pipe.fit(x_train, y_train)\n"
      ],
      "metadata": {
        "id": "M3G_i4ux0i-2"
      },
      "execution_count": null,
      "outputs": []
    },
    {
      "cell_type": "code",
      "source": [
        "y_pred = decision_tree_model.predict(x_test)\n",
        "y_pred_train = decision_tree_model.predict(x_train)\n",
        "\n",
        "print('Entrenamiento score: ', mean_absolute_error(y_train, y_pred_train))\n",
        "print('Prueba score: ', mean_absolute_error(y_test, y_pred))\n",
        "print('R2 train: ', r2_score(y_train, y_pred_train))\n",
        "print('R2 test: ', r2_score(y_test, y_pred))\n"
      ],
      "metadata": {
        "id": "lo3cwErH0k-G"
      },
      "execution_count": null,
      "outputs": []
    },
    {
      "cell_type": "markdown",
      "source": [
        "Esta diferencia entre entrenamiento y prueba se debe a que el modelo esta sobreajustado (overfitt), es decir, esta memorizando los datos de entrenamiento y no generaliza bien para los datos de prueba.\n",
        "\n",
        "Este fenomeno se puede reducir con la regularizacion, en este caso con el parametro min_samples_leaf que indica el numero minimo de muestras que debe tener una hoja para que el modelo no siga creciendo. pero como se tienen pocos datos, no se va continuar con este modelo."
      ],
      "metadata": {
        "id": "LF56U94y0tAV"
      }
    },
    {
      "cell_type": "code",
      "source": [
        "from sklearn.metrics import PredictionErrorDisplay\n",
        "PredictionErrorDisplay.from_predictions(y_true=y_test,\n",
        "                                        y_pred=y_pred,\n",
        "                                        kind=\"actual_vs_predicted\");\n"
      ],
      "metadata": {
        "id": "deJOkxqy02GG"
      },
      "execution_count": null,
      "outputs": []
    },
    {
      "cell_type": "code",
      "source": [
        "PredictionErrorDisplay.from_predictions(y_true=y_test,\n",
        "                                        y_pred=y_pred,\n",
        "                                        kind=\"residual_vs_predicted\");\n"
      ],
      "metadata": {
        "id": "t2ut2KgP07O9"
      },
      "execution_count": null,
      "outputs": []
    },
    {
      "cell_type": "markdown",
      "source": [
        "### Interpretación del modelo"
      ],
      "metadata": {
        "id": "zxiMnbRp09-e"
      }
    },
    {
      "cell_type": "code",
      "source": [
        "from sklearn.inspection import permutation_importance\n",
        "\n",
        "imps = permutation_importance(lasso_pipe, x_test, y_test,\n",
        "                              n_repeats = 5,\n",
        "                              scoring= \"neg_mean_absolute_error\",\n",
        "                              n_jobs=-1, random_state=42)\n",
        "fig= plt.figure(figsize=(10,8))\n",
        "perm_sorted_idx = imps.importances_mean.argsort()\n",
        "plt.boxplot(imps.importances[perm_sorted_idx].T, vert=False,\n",
        "            labels=x_test.columns[perm_sorted_idx])\n",
        "plt.title(\"Permutation Importances (test set)\");"
      ],
      "metadata": {
        "id": "zkNoKsja0_ZP"
      },
      "execution_count": null,
      "outputs": []
    },
    {
      "cell_type": "markdown",
      "source": [
        "En base a estos resultados se pueden reducir el numero de variables y obtener un modelo mas simple con mas o menos el mismo desempeño.\n",
        "\n",
        "Viendo las graficas solo tomare las 8 variables mas importantes."
      ],
      "metadata": {
        "id": "WgWkT3ApCEGd"
      }
    },
    {
      "cell_type": "code",
      "source": [
        "#los valores estan en orden ascendente, entonces se deben tomar los ultimos 8\n",
        "# se puede comprobar al comparar con el grafico de barras\n",
        "cols_seleccionadas = x_test.columns[perm_sorted_idx][-9:].tolist()\n",
        "cols_seleccionadas"
      ],
      "metadata": {
        "id": "d4MnELYRCIF9"
      },
      "execution_count": null,
      "outputs": []
    },
    {
      "cell_type": "markdown",
      "source": [
        "Modelo con menos variables:"
      ],
      "metadata": {
        "id": "dtfOz40SCXPZ"
      }
    },
    {
      "cell_type": "code",
      "source": [
        "x_train = x_train[cols_seleccionadas]\n",
        "x_test = x_test[cols_seleccionadas]\n",
        "x_train.head()"
      ],
      "metadata": {
        "id": "jh4onQ-yCYop"
      },
      "execution_count": null,
      "outputs": []
    },
    {
      "cell_type": "code",
      "source": [
        "cols_seleccionadas"
      ],
      "metadata": {
        "id": "PW_4x4jRNjuk"
      },
      "execution_count": null,
      "outputs": []
    },
    {
      "cell_type": "markdown",
      "source": [
        "En este caso, todas las variables son numéricas:"
      ],
      "metadata": {
        "id": "q4DUbLQrChrz"
      }
    },
    {
      "cell_type": "code",
      "source": [
        "cols_seleccionadas_num=['stats_collectCount',\n",
        " 'video_bitrate',\n",
        " 'video_volumeInfo.Peak',\n",
        " 'dias_fecactual_fecpublic',\n",
        " 'video_duration',\n",
        " 'music_preciseDuration.preciseDuration',\n",
        " 'tasa_compromiso',\n",
        " 'stats_diggCount']\n",
        "\n",
        "#cols_seleccionadas_num=['video_volumeInfo.Peak', 'tasa_compromiso', 'dias_fecactual_fecpublic', 'stats_commentCount', 'author_followers', 'stats_collectCount', 'stats_diggCount']\n",
        "\n",
        "cols_seleccionadas_cat=['music_author_Real Madrid C.F.']\n",
        "\n",
        "#cols_seleccionadas_cat=['music_sonido original']\n",
        "\n",
        "numeric_pipe = Pipeline(steps=[\n",
        "    ('imputer', SimpleImputer(strategy='median'))])\n",
        "\n",
        "categorical_pipe = Pipeline(steps=[\n",
        "    ('imputer', SimpleImputer(strategy='most_frequent')),\n",
        "    ('onehot', OneHotEncoder(handle_unknown='ignore'))])\n",
        "\n",
        "preprocessor = ColumnTransformer(\n",
        "    transformers=[\n",
        "        ('numericas', numeric_pipe, cols_seleccionadas_num),\n",
        "        ('categoricas', categorical_pipe, cols_seleccionadas_cat)\n",
        "        ])\n",
        "\n",
        "\n",
        "model = Lasso(alpha=1.0)\n",
        "\n",
        "lasso_pipe = Pipeline(steps=[(\"preprocessor\", preprocessor),\n",
        "                           (\"model\", model)])\n",
        "lasso_model = lasso_pipe.fit(x_train, y_train)\n"
      ],
      "metadata": {
        "id": "9LutJiBNCj-y"
      },
      "execution_count": null,
      "outputs": []
    },
    {
      "cell_type": "code",
      "source": [
        "y_pred = lasso_model.predict(x_test)\n",
        "y_pred_train = lasso_model.predict(x_train)\n",
        "\n",
        "print('Entrenamiento score: ', mean_absolute_error(y_train, y_pred_train))\n",
        "print('Prueba score: ', mean_absolute_error(y_test, y_pred))\n",
        "print('R2: ', r2_score(y_test, y_pred))\n"
      ],
      "metadata": {
        "id": "EQppjOVZCt0y"
      },
      "execution_count": null,
      "outputs": []
    },
    {
      "cell_type": "markdown",
      "source": [
        "### Procesamiento y Modelo final con scikit-learn"
      ],
      "metadata": {
        "id": "3wwmNZu5yobK"
      }
    },
    {
      "cell_type": "code",
      "source": [
        "cols_seleccionadas"
      ],
      "metadata": {
        "id": "Uf1sbi1x0EoJ"
      },
      "execution_count": null,
      "outputs": []
    },
    {
      "cell_type": "code",
      "source": [
        "columnas=['author_followers',\n",
        " 'stats_collectCount',\n",
        " 'music_author_Real Madrid C.F.',\n",
        " 'video_bitrate',\n",
        " 'video_volumeInfo.Peak',\n",
        " 'dias_fecactual_fecpublic',\n",
        " 'video_duration',\n",
        " 'music_preciseDuration.preciseDuration',\n",
        " 'tasa_compromiso',\n",
        " 'stats_diggCount','stats_playCount']\n",
        "\n",
        "auto_df=df_realmadrid_def[columnas]\n"
      ],
      "metadata": {
        "id": "4mCRlq341-Gp"
      },
      "execution_count": null,
      "outputs": []
    },
    {
      "cell_type": "markdown",
      "source": [
        "Se dividen los datos en las variables de entrada y la variable de salida:"
      ],
      "metadata": {
        "id": "Br8_QHcItybo"
      }
    },
    {
      "cell_type": "code",
      "source": [
        "X = auto_df.drop('stats_playCount', axis='columns')\n",
        "y = auto_df['stats_playCount']"
      ],
      "metadata": {
        "id": "wwUE1yW511ug"
      },
      "execution_count": null,
      "outputs": []
    },
    {
      "cell_type": "code",
      "source": [
        "lasso_model = lasso_pipe.fit(X, y)"
      ],
      "metadata": {
        "id": "ZP7eohuN20Qp"
      },
      "execution_count": null,
      "outputs": []
    },
    {
      "cell_type": "markdown",
      "source": [
        "Se selecciona el modelo que obtuvo mejores resultados en la hiperparametrizacion y sus resultados eran buenos con el dataset de prueba (test):"
      ],
      "metadata": {
        "id": "Fcs7movKvXCW"
      }
    },
    {
      "cell_type": "code",
      "source": [
        "from joblib import dump# libreria de serializacion\n",
        "\n",
        "# grabar el modelo en un archivo\n",
        "dump(lasso_model, 'lasso_model.joblib')\n",
        "import pandas as pd\n",
        "from joblib import load\n",
        "\n",
        "modelo = load('lasso_model.joblib')\n",
        "modelo\n",
        "\n"
      ],
      "metadata": {
        "id": "f_N3m5SG268_"
      },
      "execution_count": null,
      "outputs": []
    },
    {
      "cell_type": "code",
      "source": [
        "# tomar dos datos de entrada para realizar la prediccion, eliminando la columna de estudio\n",
        "datos_prueba = X. sample(50)\n",
        "datos_prueba\n"
      ],
      "metadata": {
        "id": "0ixpmE2u3N3f"
      },
      "execution_count": null,
      "outputs": []
    },
    {
      "cell_type": "code",
      "source": [
        "# resultados de predicion con el modelo\n",
        "#modelo.predict(datos_prueba)\n",
        "modelo.predict(X)"
      ],
      "metadata": {
        "id": "LvPW_Y7g3XIX"
      },
      "execution_count": null,
      "outputs": []
    },
    {
      "cell_type": "code",
      "source": [
        "plt.figure(figsize = (8,4))\n",
        "sns.lineplot(data=modelo.predict(X))\n",
        "plt.title(\"Resultado predicción visualizaciones @realmadrid\")\n",
        "plt.show()"
      ],
      "metadata": {
        "colab": {
          "base_uri": "https://localhost:8080/",
          "height": 391
        },
        "id": "DnqliB_qkNEL",
        "outputId": "c49a1cca-6cbd-47fa-f045-2890a4600eee"
      },
      "execution_count": null,
      "outputs": [
        {
          "output_type": "display_data",
          "data": {
            "text/plain": [
              "<Figure size 800x400 with 1 Axes>"
            ],
            "image/png": "[encoded data removed]"
          },
          "metadata": {}
        }
      ]
    },
    {
      "cell_type": "code",
      "source": [
        "plt.figure(figsize = (8,4))\n",
        "plt.plot(y,label='Visualizaciones reales')\n",
        "plt.plot(modelo.predict(X), label='predicción')\n",
        "plt.legend()\n",
        "plt.show()"
      ],
      "metadata": {
        "colab": {
          "base_uri": "https://localhost:8080/",
          "height": 383
        },
        "id": "ufrCKTqCkDN1",
        "outputId": "5ad66849-0a2d-47e2-b2ff-0e1a94cd6658"
      },
      "execution_count": null,
      "outputs": [
        {
          "output_type": "display_data",
          "data": {
            "text/plain": [
              "<Figure size 800x400 with 1 Axes>"
            ],
            "image/png": "[encoded data removed]"
          },
          "metadata": {}
        }
      ]
    }
  ]
}